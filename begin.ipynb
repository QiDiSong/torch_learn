{
 "cells": [
  {
   "cell_type": "code",
   "execution_count": 65,
   "id": "initial_id",
   "metadata": {
    "collapsed": true,
    "ExecuteTime": {
     "end_time": "2023-08-23T10:12:31.496855700Z",
     "start_time": "2023-08-23T10:12:31.091844900Z"
    }
   },
   "outputs": [],
   "source": [
    "import torch"
   ]
  },
  {
   "cell_type": "code",
   "execution_count": 66,
   "outputs": [
    {
     "data": {
      "text/plain": "'1.12.0+cpu'"
     },
     "execution_count": 66,
     "metadata": {},
     "output_type": "execute_result"
    }
   ],
   "source": [
    "torch.__version__"
   ],
   "metadata": {
    "collapsed": false,
    "ExecuteTime": {
     "end_time": "2023-08-23T10:12:31.626860300Z",
     "start_time": "2023-08-23T10:12:31.095846700Z"
    }
   },
   "id": "dbf7d5571bc760f8"
  },
  {
   "cell_type": "code",
   "execution_count": 67,
   "outputs": [],
   "source": [
    "import numpy as np"
   ],
   "metadata": {
    "collapsed": false,
    "ExecuteTime": {
     "end_time": "2023-08-23T10:12:31.627858300Z",
     "start_time": "2023-08-23T10:12:31.108847500Z"
    }
   },
   "id": "90d33b8ac2ec9ad1"
  },
  {
   "cell_type": "code",
   "execution_count": 68,
   "outputs": [
    {
     "data": {
      "text/plain": "array([1, 2])"
     },
     "execution_count": 68,
     "metadata": {},
     "output_type": "execute_result"
    }
   ],
   "source": [
    "a = np.array([1, 2])\n",
    "a"
   ],
   "metadata": {
    "collapsed": false,
    "ExecuteTime": {
     "end_time": "2023-08-23T10:12:31.627858300Z",
     "start_time": "2023-08-23T10:12:31.125847100Z"
    }
   },
   "id": "f443fa094853eb12"
  },
  {
   "cell_type": "code",
   "execution_count": 69,
   "outputs": [
    {
     "data": {
      "text/plain": "dtype('int32')"
     },
     "execution_count": 69,
     "metadata": {},
     "output_type": "execute_result"
    }
   ],
   "source": [
    "a.dtype"
   ],
   "metadata": {
    "collapsed": false,
    "ExecuteTime": {
     "end_time": "2023-08-23T10:12:31.627858300Z",
     "start_time": "2023-08-23T10:12:31.140847500Z"
    }
   },
   "id": "d3358e4618220f0c"
  },
  {
   "cell_type": "code",
   "execution_count": 70,
   "outputs": [],
   "source": [
    "t = torch.tensor(a)"
   ],
   "metadata": {
    "collapsed": false,
    "ExecuteTime": {
     "end_time": "2023-08-23T10:12:31.627858300Z",
     "start_time": "2023-08-23T10:12:31.155847500Z"
    }
   },
   "id": "f1f0925bf97d3ef2"
  },
  {
   "cell_type": "code",
   "execution_count": 71,
   "outputs": [
    {
     "data": {
      "text/plain": "torch.int32"
     },
     "execution_count": 71,
     "metadata": {},
     "output_type": "execute_result"
    }
   ],
   "source": [
    "t.dtype"
   ],
   "metadata": {
    "collapsed": false,
    "ExecuteTime": {
     "end_time": "2023-08-23T10:12:31.627858300Z",
     "start_time": "2023-08-23T10:12:31.170847100Z"
    }
   },
   "id": "2f100961737ee0ff"
  },
  {
   "cell_type": "code",
   "execution_count": 72,
   "outputs": [],
   "source": [
    "t2 = torch.tensor([1, 2])"
   ],
   "metadata": {
    "collapsed": false,
    "ExecuteTime": {
     "end_time": "2023-08-23T10:12:31.627858300Z",
     "start_time": "2023-08-23T10:12:31.187848200Z"
    }
   },
   "id": "c4bf81de8e0f90e8"
  },
  {
   "cell_type": "code",
   "execution_count": 73,
   "outputs": [
    {
     "data": {
      "text/plain": "(torch.int64, tensor([1, 2]))"
     },
     "execution_count": 73,
     "metadata": {},
     "output_type": "execute_result"
    }
   ],
   "source": [
    "t2.dtype, t2"
   ],
   "metadata": {
    "collapsed": false,
    "ExecuteTime": {
     "end_time": "2023-08-23T10:12:31.628860Z",
     "start_time": "2023-08-23T10:12:31.203850200Z"
    }
   },
   "id": "546489c819d5dfd1"
  },
  {
   "cell_type": "code",
   "execution_count": 74,
   "outputs": [
    {
     "data": {
      "text/plain": "array([1, 2], dtype=int64)"
     },
     "execution_count": 74,
     "metadata": {},
     "output_type": "execute_result"
    }
   ],
   "source": [
    "np.array(t2)"
   ],
   "metadata": {
    "collapsed": false,
    "ExecuteTime": {
     "end_time": "2023-08-23T10:12:31.628860Z",
     "start_time": "2023-08-23T10:12:31.216849600Z"
    }
   },
   "id": "9c65b2ccd7d6bf9a"
  },
  {
   "cell_type": "code",
   "execution_count": 75,
   "outputs": [
    {
     "data": {
      "text/plain": "(array([1.1, 2.2]), dtype('float64'))"
     },
     "execution_count": 75,
     "metadata": {},
     "output_type": "execute_result"
    }
   ],
   "source": [
    "f = np.array([1.1, 2.2])\n",
    "f, f.dtype"
   ],
   "metadata": {
    "collapsed": false,
    "ExecuteTime": {
     "end_time": "2023-08-23T10:12:31.628860Z",
     "start_time": "2023-08-23T10:12:31.232849800Z"
    }
   },
   "id": "2a31a962679e50c"
  },
  {
   "cell_type": "code",
   "execution_count": 76,
   "outputs": [
    {
     "data": {
      "text/plain": "tensor([1.1000, 2.2000], dtype=torch.float64)"
     },
     "execution_count": 76,
     "metadata": {},
     "output_type": "execute_result"
    }
   ],
   "source": [
    "torch.tensor(np.array([1.1, 2.2]))"
   ],
   "metadata": {
    "collapsed": false,
    "ExecuteTime": {
     "end_time": "2023-08-23T10:12:31.629858800Z",
     "start_time": "2023-08-23T10:12:31.247850500Z"
    }
   },
   "id": "64fe118fe7d14b7"
  },
  {
   "cell_type": "code",
   "execution_count": 77,
   "outputs": [
    {
     "data": {
      "text/plain": "torch.float32"
     },
     "execution_count": 77,
     "metadata": {},
     "output_type": "execute_result"
    }
   ],
   "source": [
    " torch.tensor([1.1, 2.2]).dtype"
   ],
   "metadata": {
    "collapsed": false,
    "ExecuteTime": {
     "end_time": "2023-08-23T10:12:31.629858800Z",
     "start_time": "2023-08-23T10:12:31.263851Z"
    }
   },
   "id": "e6ab7361a256b32b"
  },
  {
   "cell_type": "code",
   "execution_count": 78,
   "outputs": [
    {
     "data": {
      "text/plain": "tensor([ True, False])"
     },
     "execution_count": 78,
     "metadata": {},
     "output_type": "execute_result"
    }
   ],
   "source": [
    "b = torch.tensor([True, False])\n",
    "b"
   ],
   "metadata": {
    "collapsed": false,
    "ExecuteTime": {
     "end_time": "2023-08-23T10:12:31.629858800Z",
     "start_time": "2023-08-23T10:12:31.280852200Z"
    }
   },
   "id": "d3eb952a8f77661f"
  },
  {
   "cell_type": "code",
   "execution_count": 79,
   "outputs": [
    {
     "data": {
      "text/plain": "torch.bool"
     },
     "execution_count": 79,
     "metadata": {},
     "output_type": "execute_result"
    }
   ],
   "source": [
    "b.dtype"
   ],
   "metadata": {
    "collapsed": false,
    "ExecuteTime": {
     "end_time": "2023-08-23T10:12:31.629858800Z",
     "start_time": "2023-08-23T10:12:31.294850500Z"
    }
   },
   "id": "bb9e6fe4e8df93c4"
  },
  {
   "cell_type": "code",
   "execution_count": 80,
   "outputs": [],
   "source": [
    "x1 = torch.tensor(-3 + pow(3, 1/2) * 3j)\n",
    "x2 = torch.tensor(-3 - pow(3, 1/2) * 3j)"
   ],
   "metadata": {
    "collapsed": false,
    "ExecuteTime": {
     "end_time": "2023-08-23T10:12:31.630859500Z",
     "start_time": "2023-08-23T10:12:31.310850Z"
    }
   },
   "id": "afe5e150b4cd15c6"
  },
  {
   "cell_type": "code",
   "execution_count": 81,
   "outputs": [
    {
     "data": {
      "text/plain": "tensor(0.+0.j)"
     },
     "execution_count": 81,
     "metadata": {},
     "output_type": "execute_result"
    }
   ],
   "source": [
    "x1 * x1 + 6 * x1 + 36"
   ],
   "metadata": {
    "collapsed": false,
    "ExecuteTime": {
     "end_time": "2023-08-23T10:12:31.630859500Z",
     "start_time": "2023-08-23T10:12:31.326852Z"
    }
   },
   "id": "d5f0d73694e3e5ad"
  },
  {
   "cell_type": "code",
   "execution_count": 82,
   "outputs": [
    {
     "data": {
      "text/plain": "tensor(0.+0.j)"
     },
     "execution_count": 82,
     "metadata": {},
     "output_type": "execute_result"
    }
   ],
   "source": [
    "x2 * x2 + 6 * x2 + 36"
   ],
   "metadata": {
    "collapsed": false,
    "ExecuteTime": {
     "end_time": "2023-08-23T10:12:31.630859500Z",
     "start_time": "2023-08-23T10:12:31.341852300Z"
    }
   },
   "id": "752fb00f42279784"
  },
  {
   "cell_type": "code",
   "execution_count": 83,
   "outputs": [
    {
     "data": {
      "text/plain": "(tensor(216.0000+1.5259e-05j), tensor(216.0000-1.5259e-05j))"
     },
     "execution_count": 83,
     "metadata": {},
     "output_type": "execute_result"
    }
   ],
   "source": [
    "x1*x1*x1, x2*x2*x2"
   ],
   "metadata": {
    "collapsed": false,
    "ExecuteTime": {
     "end_time": "2023-08-23T10:12:31.630859500Z",
     "start_time": "2023-08-23T10:12:31.356850400Z"
    }
   },
   "id": "8abb9d8550ca5107"
  },
  {
   "cell_type": "code",
   "execution_count": 84,
   "outputs": [],
   "source": [
    "t = torch.tensor([1.1])"
   ],
   "metadata": {
    "collapsed": false,
    "ExecuteTime": {
     "end_time": "2023-08-23T10:12:31.630859500Z",
     "start_time": "2023-08-23T10:12:31.372850900Z"
    }
   },
   "id": "5985b405a30cbbd9"
  },
  {
   "cell_type": "code",
   "execution_count": 85,
   "outputs": [
    {
     "data": {
      "text/plain": "torch.float32"
     },
     "execution_count": 85,
     "metadata": {},
     "output_type": "execute_result"
    }
   ],
   "source": [
    "t.dtype"
   ],
   "metadata": {
    "collapsed": false,
    "ExecuteTime": {
     "end_time": "2023-08-23T10:12:31.630859500Z",
     "start_time": "2023-08-23T10:12:31.389852800Z"
    }
   },
   "id": "51994132dd6702ad"
  },
  {
   "cell_type": "code",
   "execution_count": 86,
   "outputs": [],
   "source": [
    "t1 = torch.tensor([1, 2])"
   ],
   "metadata": {
    "collapsed": false,
    "ExecuteTime": {
     "end_time": "2023-08-23T10:12:31.631859500Z",
     "start_time": "2023-08-23T10:12:31.406853300Z"
    }
   },
   "id": "a799bbc8735ef77d"
  },
  {
   "cell_type": "code",
   "execution_count": 87,
   "outputs": [
    {
     "data": {
      "text/plain": "1"
     },
     "execution_count": 87,
     "metadata": {},
     "output_type": "execute_result"
    }
   ],
   "source": [
    "t1.ndim"
   ],
   "metadata": {
    "collapsed": false,
    "ExecuteTime": {
     "end_time": "2023-08-23T10:12:31.631859500Z",
     "start_time": "2023-08-23T10:12:31.422854200Z"
    }
   },
   "id": "e841d4a37d6ade2c"
  },
  {
   "cell_type": "code",
   "execution_count": 88,
   "outputs": [],
   "source": [
    "t2 = torch.tensor([[1, 2], \n",
    "                   [3, 4]])"
   ],
   "metadata": {
    "collapsed": false,
    "ExecuteTime": {
     "end_time": "2023-08-23T10:12:31.631859500Z",
     "start_time": "2023-08-23T10:12:31.437853800Z"
    }
   },
   "id": "54279506214d128f"
  },
  {
   "cell_type": "code",
   "execution_count": 89,
   "outputs": [
    {
     "data": {
      "text/plain": "2"
     },
     "execution_count": 89,
     "metadata": {},
     "output_type": "execute_result"
    }
   ],
   "source": [
    "t2.ndim"
   ],
   "metadata": {
    "collapsed": false,
    "ExecuteTime": {
     "end_time": "2023-08-23T10:12:31.631859500Z",
     "start_time": "2023-08-23T10:12:31.452853Z"
    }
   },
   "id": "22b5f940f729657e"
  },
  {
   "cell_type": "code",
   "execution_count": 90,
   "outputs": [
    {
     "data": {
      "text/plain": "(torch.Size([2]), torch.Size([2, 2]))"
     },
     "execution_count": 90,
     "metadata": {},
     "output_type": "execute_result"
    }
   ],
   "source": [
    "t1.shape, t2.shape"
   ],
   "metadata": {
    "collapsed": false,
    "ExecuteTime": {
     "end_time": "2023-08-23T10:12:31.646859Z",
     "start_time": "2023-08-23T10:12:31.465853300Z"
    }
   },
   "id": "63b28ea3e384d03"
  },
  {
   "cell_type": "code",
   "execution_count": 91,
   "outputs": [
    {
     "data": {
      "text/plain": "4"
     },
     "execution_count": 91,
     "metadata": {},
     "output_type": "execute_result"
    }
   ],
   "source": [
    "t2.numel()"
   ],
   "metadata": {
    "collapsed": false,
    "ExecuteTime": {
     "end_time": "2023-08-23T10:12:31.646859Z",
     "start_time": "2023-08-23T10:12:31.481853900Z"
    }
   },
   "id": "de77fa2cce92fa2c"
  },
  {
   "cell_type": "code",
   "execution_count": 92,
   "outputs": [],
   "source": [
    "t0 = torch.tensor(1)\n",
    "t1 = torch.tensor([1])"
   ],
   "metadata": {
    "collapsed": false,
    "ExecuteTime": {
     "end_time": "2023-08-23T10:12:31.649861200Z",
     "start_time": "2023-08-23T10:12:31.498856800Z"
    }
   },
   "id": "fa9e630d67c9b913"
  },
  {
   "cell_type": "code",
   "execution_count": 93,
   "outputs": [
    {
     "data": {
      "text/plain": "(tensor(1), tensor([1]))"
     },
     "execution_count": 93,
     "metadata": {},
     "output_type": "execute_result"
    }
   ],
   "source": [
    "t0, t1"
   ],
   "metadata": {
    "collapsed": false,
    "ExecuteTime": {
     "end_time": "2023-08-23T10:12:31.649861200Z",
     "start_time": "2023-08-23T10:12:31.514854900Z"
    }
   },
   "id": "c4a9c0a9a9dfdc47"
  },
  {
   "cell_type": "code",
   "execution_count": 94,
   "outputs": [
    {
     "ename": "TypeError",
     "evalue": "len() of a 0-d tensor",
     "output_type": "error",
     "traceback": [
      "\u001B[1;31m---------------------------------------------------------------------------\u001B[0m",
      "\u001B[1;31mTypeError\u001B[0m                                 Traceback (most recent call last)",
      "Input \u001B[1;32mIn [94]\u001B[0m, in \u001B[0;36m<cell line: 1>\u001B[1;34m()\u001B[0m\n\u001B[1;32m----> 1\u001B[0m \u001B[38;5;28;43mlen\u001B[39;49m\u001B[43m(\u001B[49m\u001B[43mt0\u001B[49m\u001B[43m)\u001B[49m, \u001B[38;5;28mlen\u001B[39m(t1)\n",
      "File \u001B[1;32m~\\Anaconda3\\lib\\site-packages\\torch\\_tensor.py:705\u001B[0m, in \u001B[0;36mTensor.__len__\u001B[1;34m(self)\u001B[0m\n\u001B[0;32m    703\u001B[0m     \u001B[38;5;28;01mreturn\u001B[39;00m handle_torch_function(Tensor\u001B[38;5;241m.\u001B[39m\u001B[38;5;21m__len__\u001B[39m, (\u001B[38;5;28mself\u001B[39m,), \u001B[38;5;28mself\u001B[39m)\n\u001B[0;32m    704\u001B[0m \u001B[38;5;28;01mif\u001B[39;00m \u001B[38;5;28mself\u001B[39m\u001B[38;5;241m.\u001B[39mdim() \u001B[38;5;241m==\u001B[39m \u001B[38;5;241m0\u001B[39m:\n\u001B[1;32m--> 705\u001B[0m     \u001B[38;5;28;01mraise\u001B[39;00m \u001B[38;5;167;01mTypeError\u001B[39;00m(\u001B[38;5;124m\"\u001B[39m\u001B[38;5;124mlen() of a 0-d tensor\u001B[39m\u001B[38;5;124m\"\u001B[39m)\n\u001B[0;32m    706\u001B[0m \u001B[38;5;28;01mif\u001B[39;00m torch\u001B[38;5;241m.\u001B[39m_C\u001B[38;5;241m.\u001B[39m_get_tracing_state():\n\u001B[0;32m    707\u001B[0m     warnings\u001B[38;5;241m.\u001B[39mwarn(\u001B[38;5;124m'\u001B[39m\u001B[38;5;124mUsing len to get tensor shape might cause the trace to be incorrect. \u001B[39m\u001B[38;5;124m'\u001B[39m\n\u001B[0;32m    708\u001B[0m                   \u001B[38;5;124m'\u001B[39m\u001B[38;5;124mRecommended usage would be tensor.shape[0]. \u001B[39m\u001B[38;5;124m'\u001B[39m\n\u001B[0;32m    709\u001B[0m                   \u001B[38;5;124m'\u001B[39m\u001B[38;5;124mPassing a tensor of different shape might lead to errors or silently give \u001B[39m\u001B[38;5;124m'\u001B[39m\n\u001B[0;32m    710\u001B[0m                   \u001B[38;5;124m'\u001B[39m\u001B[38;5;124mincorrect results.\u001B[39m\u001B[38;5;124m'\u001B[39m, category\u001B[38;5;241m=\u001B[39mtorch\u001B[38;5;241m.\u001B[39mjit\u001B[38;5;241m.\u001B[39mTracerWarning, stacklevel\u001B[38;5;241m=\u001B[39m\u001B[38;5;241m2\u001B[39m)\n",
      "\u001B[1;31mTypeError\u001B[0m: len() of a 0-d tensor"
     ]
    }
   ],
   "source": [
    "len(t0), len(t1)"
   ],
   "metadata": {
    "collapsed": false,
    "ExecuteTime": {
     "end_time": "2023-08-23T10:12:31.650860700Z",
     "start_time": "2023-08-23T10:12:31.530857700Z"
    }
   },
   "id": "5fa15dc6d8e26c3f"
  },
  {
   "cell_type": "code",
   "execution_count": 95,
   "outputs": [
    {
     "data": {
      "text/plain": "(torch.Size([]), torch.Size([1]))"
     },
     "execution_count": 95,
     "metadata": {},
     "output_type": "execute_result"
    }
   ],
   "source": [
    "t0.shape, t1.shape"
   ],
   "metadata": {
    "collapsed": false,
    "ExecuteTime": {
     "end_time": "2023-08-23T10:12:51.722865700Z",
     "start_time": "2023-08-23T10:12:51.700852800Z"
    }
   },
   "id": "2160be3cd36cd71e"
  },
  {
   "cell_type": "code",
   "execution_count": 96,
   "outputs": [
    {
     "data": {
      "text/plain": "(1, 1)"
     },
     "execution_count": 96,
     "metadata": {},
     "output_type": "execute_result"
    }
   ],
   "source": [
    "t0.numel(), t1.numel()"
   ],
   "metadata": {
    "collapsed": false,
    "ExecuteTime": {
     "end_time": "2023-08-23T10:12:52.326968Z",
     "start_time": "2023-08-23T10:12:52.297967700Z"
    }
   },
   "id": "74c0db4bb958c269"
  },
  {
   "cell_type": "code",
   "execution_count": 97,
   "outputs": [],
   "source": [
    "t1 = np.array([[1, 2, 3],\n",
    "               [4, 5, 6]])"
   ],
   "metadata": {
    "collapsed": false,
    "ExecuteTime": {
     "end_time": "2023-08-23T10:12:52.659974500Z",
     "start_time": "2023-08-23T10:12:52.643005500Z"
    }
   },
   "id": "3c6d8517ff3ba6f8"
  },
  {
   "cell_type": "code",
   "execution_count": 98,
   "outputs": [
    {
     "data": {
      "text/plain": "(2, 3)"
     },
     "execution_count": 98,
     "metadata": {},
     "output_type": "execute_result"
    }
   ],
   "source": [
    "t1.shape"
   ],
   "metadata": {
    "collapsed": false,
    "ExecuteTime": {
     "end_time": "2023-08-23T10:12:52.842022300Z",
     "start_time": "2023-08-23T10:12:52.814741900Z"
    }
   },
   "id": "851de50e6abb2efd"
  },
  {
   "cell_type": "code",
   "execution_count": 99,
   "outputs": [],
   "source": [
    "t2 = np.array([[2,3,4],\n",
    "               [3,4,5]])"
   ],
   "metadata": {
    "collapsed": false,
    "ExecuteTime": {
     "end_time": "2023-08-23T10:12:53.005991500Z",
     "start_time": "2023-08-23T10:12:52.989991700Z"
    }
   },
   "id": "7145475bfbd8e42d"
  },
  {
   "cell_type": "code",
   "execution_count": 100,
   "outputs": [
    {
     "data": {
      "text/plain": "(2, 3)"
     },
     "execution_count": 100,
     "metadata": {},
     "output_type": "execute_result"
    }
   ],
   "source": [
    "t2.shape"
   ],
   "metadata": {
    "collapsed": false,
    "ExecuteTime": {
     "end_time": "2023-08-23T10:12:53.167914300Z",
     "start_time": "2023-08-23T10:12:53.146969100Z"
    }
   },
   "id": "4315439b70158a39"
  },
  {
   "cell_type": "code",
   "execution_count": 101,
   "outputs": [
    {
     "name": "stderr",
     "output_type": "stream",
     "text": [
      "C:\\Users\\qidson01\\AppData\\Local\\Temp\\ipykernel_4724\\3613564659.py:1: UserWarning: Creating a tensor from a list of numpy.ndarrays is extremely slow. Please consider converting the list to a single numpy.ndarray with numpy.array() before converting to a tensor. (Triggered internally at  C:\\actions-runner\\_work\\pytorch\\pytorch\\builder\\windows\\pytorch\\torch\\csrc\\utils\\tensor_new.cpp:204.)\n",
      "  t3 = torch.tensor([t1, t2])\n"
     ]
    }
   ],
   "source": [
    "t3 = torch.tensor([t1, t2])"
   ],
   "metadata": {
    "collapsed": false,
    "ExecuteTime": {
     "end_time": "2023-08-23T10:12:53.340205200Z",
     "start_time": "2023-08-23T10:12:53.305190500Z"
    }
   },
   "id": "ca2df8e5e4349814"
  },
  {
   "cell_type": "code",
   "execution_count": 102,
   "outputs": [
    {
     "data": {
      "text/plain": "torch.Size([2, 2, 3])"
     },
     "execution_count": 102,
     "metadata": {},
     "output_type": "execute_result"
    }
   ],
   "source": [
    "t3.shape"
   ],
   "metadata": {
    "collapsed": false,
    "ExecuteTime": {
     "end_time": "2023-08-23T10:12:53.523247500Z",
     "start_time": "2023-08-23T10:12:53.460196300Z"
    }
   },
   "id": "5eb32738999f4a3f"
  },
  {
   "cell_type": "code",
   "execution_count": 103,
   "outputs": [
    {
     "data": {
      "text/plain": "3"
     },
     "execution_count": 103,
     "metadata": {},
     "output_type": "execute_result"
    }
   ],
   "source": [
    "t3.ndim"
   ],
   "metadata": {
    "collapsed": false,
    "ExecuteTime": {
     "end_time": "2023-08-23T10:12:53.645298800Z",
     "start_time": "2023-08-23T10:12:53.632200Z"
    }
   },
   "id": "68e5780de09bbd9d"
  },
  {
   "cell_type": "code",
   "execution_count": 104,
   "outputs": [
    {
     "data": {
      "text/plain": "12"
     },
     "execution_count": 104,
     "metadata": {},
     "output_type": "execute_result"
    }
   ],
   "source": [
    "t3.numel()"
   ],
   "metadata": {
    "collapsed": false,
    "ExecuteTime": {
     "end_time": "2023-08-23T10:12:53.836280100Z",
     "start_time": "2023-08-23T10:12:53.814202Z"
    }
   },
   "id": "c5b6113d0b3b32b9"
  },
  {
   "cell_type": "code",
   "execution_count": 105,
   "outputs": [],
   "source": [
    "t4 = np.array([t1, t2])"
   ],
   "metadata": {
    "collapsed": false,
    "ExecuteTime": {
     "end_time": "2023-08-23T10:12:54.134928400Z",
     "start_time": "2023-08-23T10:12:54.116923100Z"
    }
   },
   "id": "e9f52ac2ee8f74a8"
  },
  {
   "cell_type": "code",
   "execution_count": 106,
   "outputs": [
    {
     "data": {
      "text/plain": "(2, 2, 3)"
     },
     "execution_count": 106,
     "metadata": {},
     "output_type": "execute_result"
    }
   ],
   "source": [
    "t4.shape"
   ],
   "metadata": {
    "collapsed": false,
    "ExecuteTime": {
     "end_time": "2023-08-23T10:12:54.338928Z",
     "start_time": "2023-08-23T10:12:54.319927600Z"
    }
   },
   "id": "1b7a418511b566df"
  },
  {
   "cell_type": "code",
   "execution_count": 107,
   "outputs": [
    {
     "data": {
      "text/plain": "array([[[[1, 2, 3, 4, 5, 6],\n         [2, 3, 4, 3, 4, 5]]]])"
     },
     "execution_count": 107,
     "metadata": {},
     "output_type": "execute_result"
    }
   ],
   "source": [
    "t4 = t4.reshape(1, 1, 2, 6)\n",
    "t4"
   ],
   "metadata": {
    "collapsed": false,
    "ExecuteTime": {
     "end_time": "2023-08-23T10:12:54.510932600Z",
     "start_time": "2023-08-23T10:12:54.504932100Z"
    }
   },
   "id": "d57fff4a96502059"
  },
  {
   "cell_type": "code",
   "execution_count": 108,
   "outputs": [
    {
     "data": {
      "text/plain": "(1, 1, 2, 6)"
     },
     "execution_count": 108,
     "metadata": {},
     "output_type": "execute_result"
    }
   ],
   "source": [
    "t4.shape"
   ],
   "metadata": {
    "collapsed": false,
    "ExecuteTime": {
     "end_time": "2023-08-23T10:12:54.695935100Z",
     "start_time": "2023-08-23T10:12:54.671934600Z"
    }
   },
   "id": "6407685e028ec21d"
  },
  {
   "cell_type": "code",
   "execution_count": 109,
   "outputs": [
    {
     "data": {
      "text/plain": "(12,)"
     },
     "execution_count": 109,
     "metadata": {},
     "output_type": "execute_result"
    }
   ],
   "source": [
    "t4.reshape(-1).shape"
   ],
   "metadata": {
    "collapsed": false,
    "ExecuteTime": {
     "end_time": "2023-08-23T10:12:54.879938600Z",
     "start_time": "2023-08-23T10:12:54.852938500Z"
    }
   },
   "id": "b9b9dfda0e277177"
  },
  {
   "cell_type": "code",
   "execution_count": 110,
   "outputs": [
    {
     "data": {
      "text/plain": "(12,)"
     },
     "execution_count": 110,
     "metadata": {},
     "output_type": "execute_result"
    }
   ],
   "source": [
    "t4.flatten().shape"
   ],
   "metadata": {
    "collapsed": false,
    "ExecuteTime": {
     "end_time": "2023-08-23T10:12:55.057308900Z",
     "start_time": "2023-08-23T10:12:55.042289500Z"
    }
   },
   "id": "d75e3b7a46e75f3c"
  },
  {
   "cell_type": "code",
   "execution_count": 178,
   "outputs": [],
   "source": [
    "a = torch.ones(3, 4)\n",
    "b = torch.ones(3, 1)"
   ],
   "metadata": {
    "collapsed": false,
    "ExecuteTime": {
     "end_time": "2023-08-23T10:30:03.668199600Z",
     "start_time": "2023-08-23T10:30:03.646200700Z"
    }
   },
   "id": "1e700ddf637a642d"
  },
  {
   "cell_type": "code",
   "execution_count": 179,
   "outputs": [
    {
     "data": {
      "text/plain": "tensor([[1., 1., 1., 1.],\n        [1., 1., 1., 1.],\n        [1., 1., 1., 1.]])"
     },
     "execution_count": 179,
     "metadata": {},
     "output_type": "execute_result"
    }
   ],
   "source": [
    "torch.mul(a, b)"
   ],
   "metadata": {
    "collapsed": false,
    "ExecuteTime": {
     "end_time": "2023-08-23T10:30:04.497221100Z",
     "start_time": "2023-08-23T10:30:04.480222200Z"
    }
   },
   "id": "40a69cc93c1162ca"
  },
  {
   "cell_type": "code",
   "execution_count": 134,
   "outputs": [
    {
     "data": {
      "text/plain": "torch.Size([3, 2])"
     },
     "execution_count": 134,
     "metadata": {},
     "output_type": "execute_result"
    }
   ],
   "source": [
    "torch.mm(a, b).shape"
   ],
   "metadata": {
    "collapsed": false,
    "ExecuteTime": {
     "end_time": "2023-08-23T10:15:37.851754300Z",
     "start_time": "2023-08-23T10:15:37.831749500Z"
    }
   },
   "id": "55781fb2b409bbf"
  },
  {
   "cell_type": "code",
   "execution_count": 135,
   "outputs": [
    {
     "data": {
      "text/plain": "torch.Size([3, 2])"
     },
     "execution_count": 135,
     "metadata": {},
     "output_type": "execute_result"
    }
   ],
   "source": [
    "torch.matmul(a, b).shape"
   ],
   "metadata": {
    "collapsed": false,
    "ExecuteTime": {
     "end_time": "2023-08-23T10:15:46.963163400Z",
     "start_time": "2023-08-23T10:15:46.933164100Z"
    }
   },
   "id": "9f150037d6d1b503"
  },
  {
   "cell_type": "code",
   "execution_count": 137,
   "outputs": [
    {
     "ename": "RuntimeError",
     "evalue": "batch1 must be a 3D tensor",
     "output_type": "error",
     "traceback": [
      "\u001B[1;31m---------------------------------------------------------------------------\u001B[0m",
      "\u001B[1;31mRuntimeError\u001B[0m                              Traceback (most recent call last)",
      "Input \u001B[1;32mIn [137]\u001B[0m, in \u001B[0;36m<cell line: 3>\u001B[1;34m()\u001B[0m\n\u001B[0;32m      1\u001B[0m a1 \u001B[38;5;241m=\u001B[39m torch\u001B[38;5;241m.\u001B[39mones(\u001B[38;5;241m1\u001B[39m, \u001B[38;5;241m3\u001B[39m, \u001B[38;5;241m4\u001B[39m)\n\u001B[0;32m      2\u001B[0m a2 \u001B[38;5;241m=\u001B[39m torch\u001B[38;5;241m.\u001B[39mones(\u001B[38;5;241m1\u001B[39m, \u001B[38;5;241m4\u001B[39m, \u001B[38;5;241m2\u001B[39m)\n\u001B[1;32m----> 3\u001B[0m \u001B[43mtorch\u001B[49m\u001B[38;5;241;43m.\u001B[39;49m\u001B[43mbmm\u001B[49m\u001B[43m(\u001B[49m\u001B[43ma\u001B[49m\u001B[43m,\u001B[49m\u001B[43m \u001B[49m\u001B[43mb\u001B[49m\u001B[43m)\u001B[49m\u001B[38;5;241m.\u001B[39mshape\n",
      "\u001B[1;31mRuntimeError\u001B[0m: batch1 must be a 3D tensor"
     ]
    }
   ],
   "source": [
    "a1 = torch.ones(1, 3, 4)\n",
    "a2 = torch.ones(1, 4, 2)\n",
    "torch.bmm(a, b).shape"
   ],
   "metadata": {
    "collapsed": false,
    "ExecuteTime": {
     "end_time": "2023-08-23T10:16:34.618091500Z",
     "start_time": "2023-08-23T10:16:34.599092Z"
    }
   },
   "id": "fed33bf12da288f7"
  },
  {
   "cell_type": "code",
   "execution_count": 139,
   "outputs": [
    {
     "data": {
      "text/plain": "(torch.Size([3, 4]), torch.Size([3, 4]))"
     },
     "execution_count": 139,
     "metadata": {},
     "output_type": "execute_result"
    }
   ],
   "source": [
    "c = 6\n",
    "torch.mul(c, a).shape, torch.mul(a, c).shape"
   ],
   "metadata": {
    "collapsed": false,
    "ExecuteTime": {
     "end_time": "2023-08-23T10:17:10.550023400Z",
     "start_time": "2023-08-23T10:17:10.534985100Z"
    }
   },
   "id": "cb80d8144bb3dfac"
  },
  {
   "cell_type": "code",
   "execution_count": 169,
   "outputs": [
    {
     "name": "stderr",
     "output_type": "stream",
     "text": [
      "C:\\Users\\qidson01\\AppData\\Local\\Temp\\ipykernel_4724\\2571802257.py:3: UserWarning: To copy construct from a tensor, it is recommended to use sourceTensor.clone().detach() or sourceTensor.clone().detach().requires_grad_(True), rather than torch.tensor(sourceTensor).\n",
      "  a, d, torch.tensor(a)\n"
     ]
    },
    {
     "data": {
      "text/plain": "(tensor([[[1., 1., 1.],\n          [1., 1., 1.]]]),\n tensor([[[1., 1., 1., 1., 1., 1.],\n          [1., 1., 1., 1., 1., 1.],\n          [1., 1., 1., 1., 1., 1.],\n          [1., 1., 1., 1., 1., 1.],\n          [1., 1., 1., 1., 1., 1.]],\n \n         [[1., 1., 1., 1., 1., 1.],\n          [1., 1., 1., 1., 1., 1.],\n          [1., 1., 1., 1., 1., 1.],\n          [1., 1., 1., 1., 1., 1.],\n          [1., 1., 1., 1., 1., 1.]],\n \n         [[1., 1., 1., 1., 1., 1.],\n          [1., 1., 1., 1., 1., 1.],\n          [1., 1., 1., 1., 1., 1.],\n          [1., 1., 1., 1., 1., 1.],\n          [1., 1., 1., 1., 1., 1.]],\n \n         [[1., 1., 1., 1., 1., 1.],\n          [1., 1., 1., 1., 1., 1.],\n          [1., 1., 1., 1., 1., 1.],\n          [1., 1., 1., 1., 1., 1.],\n          [1., 1., 1., 1., 1., 1.]]]),\n tensor([[[1., 1., 1.],\n          [1., 1., 1.]]]))"
     },
     "execution_count": 169,
     "metadata": {},
     "output_type": "execute_result"
    }
   ],
   "source": [
    "a = torch.ones([1, 2, 3])\n",
    "d = torch.ones([4, 5, 6])\n",
    "a, d, torch.tensor(a)"
   ],
   "metadata": {
    "collapsed": false,
    "ExecuteTime": {
     "end_time": "2023-08-23T10:25:16.708202300Z",
     "start_time": "2023-08-23T10:25:16.686179600Z"
    }
   },
   "id": "d1d432dc9c37a54e"
  },
  {
   "cell_type": "code",
   "execution_count": 170,
   "outputs": [
    {
     "data": {
      "text/plain": "tensor([1, 2, 3])"
     },
     "execution_count": 170,
     "metadata": {},
     "output_type": "execute_result"
    }
   ],
   "source": [
    "import torch\n",
    "\n",
    "# 创建两个输入张量\n",
    "tensor1 = torch.tensor([1, 2, 3])\n",
    "tensor2 = torch.tensor([4, 5, 6])\n",
    "\n",
    "# 执行逐元素相乘操作\n",
    "result = torch.mul(tensor1, tensor2)\n",
    "\n",
    "# print(result)  # 输出: tensor([ 4, 10, 18])\n",
    "tensor1"
   ],
   "metadata": {
    "collapsed": false,
    "ExecuteTime": {
     "end_time": "2023-08-23T10:25:22.881839600Z",
     "start_time": "2023-08-23T10:25:22.803837300Z"
    }
   },
   "id": "d88ecbff6b6d9bbc"
  },
  {
   "cell_type": "code",
   "execution_count": null,
   "outputs": [],
   "source": [],
   "metadata": {
    "collapsed": false
   },
   "id": "5e2ad0849668bc49"
  }
 ],
 "metadata": {
  "kernelspec": {
   "display_name": "Python 3",
   "language": "python",
   "name": "python3"
  },
  "language_info": {
   "codemirror_mode": {
    "name": "ipython",
    "version": 2
   },
   "file_extension": ".py",
   "mimetype": "text/x-python",
   "name": "python",
   "nbconvert_exporter": "python",
   "pygments_lexer": "ipython2",
   "version": "2.7.6"
  }
 },
 "nbformat": 4,
 "nbformat_minor": 5
}
